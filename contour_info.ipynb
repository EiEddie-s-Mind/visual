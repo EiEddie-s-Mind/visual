{
 "cells": [
  {
   "cell_type": "code",
   "execution_count": 1,
   "metadata": {},
   "outputs": [],
   "source": [
    "import numpy as np\n",
    "import cv2 as cv\n",
    "import matplotlib.pyplot as plt\n",
    "\n",
    "def imshow(img):\n",
    "    plt.imshow(img)\n",
    "    plt.show()"
   ]
  },
  {
   "cell_type": "markdown",
   "metadata": {},
   "source": [
    "# 轮廓信息\n",
    "使用统计方法从已知形状轮廓的矩<sup>[1]</sup>中提取信息.\n",
    "\n",
    "[1]: [图像矩-维基百科](https://zh.wikipedia.org/wiki/%E7%9F%A9_(%E5%9B%BE%E5%83%8F))"
   ]
  },
  {
   "cell_type": "markdown",
   "metadata": {},
   "source": [
    "例如如下的倾斜矩形图案, 获取它的轮廓并计算轮廓的矩:"
   ]
  },
  {
   "cell_type": "code",
   "execution_count": 2,
   "metadata": {},
   "outputs": [
    {
     "data": {
      "image/png": "[encoded data removed]",
      "text/plain": [
       "<Figure size 640x480 with 1 Axes>"
      ]
     },
     "metadata": {},
     "output_type": "display_data"
    }
   ],
   "source": [
    "l = 60\n",
    "w = 20\n",
    "theta = np.pi/3\n",
    "size = 256\n",
    "\n",
    "target = np.zeros((size,size,1), np.uint8)\n",
    "c = size//2\n",
    "dlx =  l/2*np.cos(theta)\n",
    "dly =  l/2*np.sin(theta)\n",
    "dwx = -w/2*np.sin(theta)\n",
    "dwy =  w/2*np.cos(theta)\n",
    "rect = np.array([[ dlx+dwx,  dly+dwy],\n",
    "                 [ dlx-dwx,  dly-dwy],\n",
    "                 [-dlx-dwx, -dly-dwy],\n",
    "                 [-dlx+dwx, -dly+dwy]]).astype(np.int32) + c\n",
    "cv.fillPoly(target, [rect], (255))\n",
    "imshow(target)"
   ]
  },
  {
   "cell_type": "code",
   "execution_count": 3,
   "metadata": {},
   "outputs": [
    {
     "data": {
      "text/plain": [
       "{'m00': 1140.0,\n",
       " 'm10': 145911.5,\n",
       " 'm01': 145925.0,\n",
       " 'm20': 18783239.5,\n",
       " 'm11': 18799064.666666664,\n",
       " 'm02': 18925803.333333332,\n",
       " 'm30': 2431674583.75,\n",
       " 'm21': 2435505618.9166665,\n",
       " 'm12': 2453532032.25,\n",
       " 'm03': 2485756287.5,\n",
       " 'mu20': 107655.4366228059,\n",
       " 'mu11': 121752.70394736528,\n",
       " 'mu02': 246763.31140350923,\n",
       " 'mu30': 1791.8326077461243,\n",
       " 'mu21': 1703.6872523128986,\n",
       " 'mu12': 558.8125392459333,\n",
       " 'mu03': -3119.385772228241,\n",
       " 'nu20': 0.08283736274454132,\n",
       " 'nu11': 0.09368475219095514,\n",
       " 'nu02': 0.1898763553428049,\n",
       " 'nu30': 4.083525832296725e-05,\n",
       " 'nu21': 3.882645552323858e-05,\n",
       " 'nu12': 1.273514852647112e-05,\n",
       " 'nu03': -7.108974536307627e-05}"
      ]
     },
     "execution_count": 3,
     "metadata": {},
     "output_type": "execute_result"
    }
   ],
   "source": [
    "cnt = cv.findContours(target, cv.RETR_EXTERNAL, cv.CHAIN_APPROX_SIMPLE)[0][0]\n",
    "m = cv.moments(cnt)\n",
    "m"
   ]
  },
  {
   "cell_type": "markdown",
   "metadata": {},
   "source": [
    "其中 **0 阶原点矩**(`m00`) 为轮廓的面积, 两个 **1 阶原始矩**(`m10`, `m01`) 与 $x$, $y$ 方向点分布的期望有关.\n",
    "具体地说, $\\frac{m_{10}}{m_{00}}$, $\\frac{m_{01}}{m_{00}}$ 分别为 $x$, $y$ 方向的数学期望, 或均值, 即轮廓的质心所在."
   ]
  },
  {
   "cell_type": "code",
   "execution_count": 4,
   "metadata": {},
   "outputs": [
    {
     "name": "stdout",
     "output_type": "stream",
     "text": [
      "centroid:\n",
      "calc=[128.00438596 127.99254386]\n",
      "true=[128. 128.]\n"
     ]
    }
   ],
   "source": [
    "centroid = np.array([m['m01']/m['m00'], m['m10']/m['m00']])\n",
    "\n",
    "print(f\"centroid:\\ncalc={centroid}\\ntrue={np.array([size/2, size/2])}\")"
   ]
  },
  {
   "cell_type": "markdown",
   "metadata": {},
   "source": [
    "我们更关心轮廓的 **中心矩**, 它相当于将轮廓质心平移到原点后计算的原始矩.\n",
    "因此无论轮廓在图上什么位置, 中心矩始终保持不变. 这就是中心矩的 _平移不变性_."
   ]
  },
  {
   "cell_type": "markdown",
   "metadata": {},
   "source": [
    "图案的 **2 阶中心矩** 与方差有关. 三个 2 阶中心矩除面积即为方差: $\\frac{\\mu_{20}}{m_{00}}$, $\\frac{\\mu_{02}}{m_{00}}$, $\\frac{\\mu_{11}}{m_{00}}$ 分别为 $\\mathrm{Var}{(X)}$, $\\mathrm{Var}{(Y)}$ 与协方差 $\\mathrm{Cov}{(X,Y)}$.\n",
    "\n",
    "通过构建协方差矩阵:\n",
    "$$\n",
    "\\begin{align*}\n",
    "\\mathbf{cov}{(X,Y)} & =\n",
    "\\begin{pmatrix}\n",
    "\\mathrm{Var}{(X)}   & \\mathrm{Cov}{(X,Y)} \\\\\n",
    "\\mathrm{Cov}{(X,Y)} & \\mathrm{Var}{(X)}\n",
    "\\end{pmatrix} \\\\\n",
    "& = \\frac{1}{m_{00}}\n",
    "\\begin{pmatrix}\n",
    "\\mu_{20} & \\mu_{11} \\\\\n",
    "\\mu_{11} & \\mu_{02}\n",
    "\\end{pmatrix}\n",
    "\\end{align*}\n",
    "$$\n",
    "求解其特征向量, 便可得到其主方向与副方向, 也就是方差最大与最小的方向.\n",
    "具体到矩形区域上, 特征值较大的特征向量对应矩形的长轴 (长), 较小的对应矩形的短轴 (宽).\n",
    "\n",
    "进一步可以知道, 特征值是 在对应的特征向量方向上图案的方差.\n",
    "因为特征向量恰好是矩形的长轴与短轴方向, 因此在这个方向上的方差是一个 _均匀分布_ 的方差.\n",
    "对于均匀分布, 其方差只与分布长度有关. 方差 $\\sigma^2$ 有\n",
    "$$\n",
    "\\sigma^2 = \\frac{l^2}{12}\n",
    "$$\n",
    "其中 $l$ 是分布区间长度. 这样我们就可以通过特征值分解协方差矩阵, 得到矩形的方向与长度信息."
   ]
  },
  {
   "cell_type": "markdown",
   "metadata": {},
   "source": [
    "对于二阶矩阵, 容易计算其特征值与特征向量:\n",
    "\n",
    "$$\n",
    "\\lambda_1 = \\frac{1}{2 m_{00}} (-\\sqrt{(\\mu_{02}-\\mu_{20})^2+4 \\mu_{11}^2}+\\mu_{02}+\\mu_{20}) \\\\\n",
    "~\\\\\n",
    "\\mathbf{v}_1 = (\\frac{-\\sqrt{(\\mu_{02}-\\mu_{20})^2+4 \\mu_{11}^2}-\\mu_{02}+\\mu_{20}}{2 \\mu_{11}}, 1)^T\n",
    "$$\n",
    "\n",
    "$$\n",
    "\\lambda_2 = \\frac{1}{2 m_{00}} (\\sqrt{(\\mu_{02}-\\mu_{20})^2+4 \\mu_{11}^2}+\\mu_{02}+\\mu_{20}) \\\\\n",
    "~\\\\\n",
    "\\mathbf{v}_2 = (\\frac{\\sqrt{(\\mu_{02}-\\mu_{20})^2+4 \\mu_{11}^2}-\\mu_{02}+\\mu_{20}}{2 \\mu_{11}}, 1)^T\n",
    "$$"
   ]
  },
  {
   "cell_type": "markdown",
   "metadata": {},
   "source": [
    "根据特征向量 $\\mathbf{v}_2$ 可以计算出矩形的方向."
   ]
  },
  {
   "cell_type": "code",
   "execution_count": 5,
   "metadata": {},
   "outputs": [
    {
     "name": "stdout",
     "output_type": "stream",
     "text": [
      "theta:\n",
      "calc=59.87°\n",
      "true=60.0°\n"
     ]
    }
   ],
   "source": [
    "delta = (m['mu02']-m['mu20'])**2 + 4*m['mu11']**2\n",
    "v2 = np.array([(np.sqrt(delta) - m['mu02'] + m['mu20'])/(2*m['mu11']), 1])\n",
    "phi = np.atan(v2[1]/v2[0])\n",
    "\n",
    "print(f\"theta:\\ncalc={np.rad2deg(np.fmod(phi+2*np.pi, 2*np.pi)):.4}°\\ntrue={np.rad2deg(np.fmod(theta+2*np.pi, 2*np.pi)):.4}°\")"
   ]
  },
  {
   "cell_type": "markdown",
   "metadata": {},
   "source": [
    "显然 $\\lambda_1 < \\lambda_2$, 则其长轴长为 $\\sqrt{12 \\lambda_2}$, 短轴长为 $\\sqrt{12 \\lambda_1}$."
   ]
  },
  {
   "cell_type": "code",
   "execution_count": 6,
   "metadata": {},
   "outputs": [
    {
     "name": "stdout",
     "output_type": "stream",
     "text": [
      "width:\n",
      "calc=19.7324\n",
      "true=20\n",
      "\n",
      "length:\n",
      "calc=57.8045\n",
      "true=60\n"
     ]
    }
   ],
   "source": [
    "lambda1 = (m['mu02']+m['mu20']-np.sqrt(delta))/(2*m['m00'])\n",
    "lambda2 = (m['mu02']+m['mu20']+np.sqrt(delta))/(2*m['m00'])\n",
    "\n",
    "print(f\"width:\\ncalc={np.sqrt(12*lambda1):.4f}\\ntrue={w}\")\n",
    "print()\n",
    "print(f\"length:\\ncalc={np.sqrt(12*lambda2):.4f}\\ntrue={l}\")"
   ]
  },
  {
   "cell_type": "markdown",
   "metadata": {},
   "source": [
    "另外, 只需将特征向量旋转 $90\\degree$ 即可. 使用预定义的旋转矩阵可以很方便地完成."
   ]
  },
  {
   "cell_type": "code",
   "execution_count": 7,
   "metadata": {},
   "outputs": [
    {
     "name": "stdout",
     "output_type": "stream",
     "text": [
      " v=[1 2]\n",
      "Rv=[-2  1]\n"
     ]
    }
   ],
   "source": [
    "# 演示旋转矩阵\n",
    "R = np.array([[0, -1],\n",
    "              [1,  0]])\n",
    "v = np.array([1, 2])\n",
    "\n",
    "print(f\" v={v}\\nRv={R@v}\")"
   ]
  },
  {
   "cell_type": "markdown",
   "metadata": {},
   "source": [
    "## Example"
   ]
  },
  {
   "cell_type": "code",
   "execution_count": 8,
   "metadata": {},
   "outputs": [],
   "source": [
    "def contour_info(cnt: np.ndarray) -> tuple[np.ndarray, np.ndarray, float, float, float]:\n",
    "    \"\"\"计算轮廓的诸特征\n",
    "\n",
    "    Args:\n",
    "        cnt (np.ndarray): 轮廓, 由 `cv2.findContours` 得到.\n",
    "\n",
    "    Returns:\n",
    "        返回一个元组 `(position, offset, angle, length, width)`, 分别代表\n",
    "        (**质心坐标,即位置**; **极点偏移量**; **角度[弧度制]**; **长度**; **宽度**).\n",
    "        \n",
    "        其中 **极点偏移量** `offset` 为 质心 到 矩形窄边中点 的向量.\n",
    "        那么 `position+offset` 与 `position-offset` 就代表了矩形窄边中点的位置.\n",
    "    \"\"\"\n",
    "    \n",
    "    m = cv.moments(cnt)\n",
    "    \n",
    "    delta_root = np.sqrt(4*m['mu11']**2 + (m['mu20']-m['mu02'])**2)\n",
    "    A = 2*m['mu11']/(m['mu20']-m['mu02']+delta_root)\n",
    "    \n",
    "    if np.isnan(A):\n",
    "        x = 0\n",
    "        y = 1\n",
    "    else:\n",
    "        x = 1/np.sqrt(A*A+1)\n",
    "        y = A*x\n",
    "    \n",
    "    # 主轴方向的方差\n",
    "    var_pri = 0.5*(m['mu20']+m['mu02']+delta_root)/m['m00']\n",
    "    # 主轴长度的一半\n",
    "    len_half_pri = np.sqrt(3*var_pri)\n",
    "    \n",
    "    # 副轴方向的方差\n",
    "    var_sec = 0.5*(m['mu20']+m['mu02']-delta_root)/m['m00']\n",
    "    # 副轴长度的一半\n",
    "    len_half_sec = np.sqrt(3*var_sec)\n",
    "    \n",
    "    # 主轴方向\n",
    "    # 已经过归一化\n",
    "    dir_v = np.array([x, y])\n",
    "    # 副轴方向\n",
    "    # 直接将主轴旋转 90 deg 而来\n",
    "    #dir_sec_v = np.array([[0, -1],\n",
    "    #                      [1,  0]])@dir_v\n",
    "    # 质心坐标\n",
    "    pos_v = np.array([m['m10']/m['m00'], m['m01']/m['m00']])\n",
    "    \n",
    "    return (pos_v,\n",
    "            len_half_pri*dir_v,\n",
    "            np.atan(A),\n",
    "            2*len_half_pri,\n",
    "            2*len_half_sec)"
   ]
  },
  {
   "cell_type": "code",
   "execution_count": 9,
   "metadata": {},
   "outputs": [
    {
     "data": {
      "text/plain": [
       "(array([127.99254386, 128.00438596]),\n",
       " array([14.5082767 , 24.99697385]),\n",
       " np.float64(1.04491228382786),\n",
       " np.float64(57.80445638257416),\n",
       " np.float64(19.73242219672937))"
      ]
     },
     "execution_count": 9,
     "metadata": {},
     "output_type": "execute_result"
    }
   ],
   "source": [
    "contour_info(cnt)"
   ]
  }
 ],
 "metadata": {
  "kernelspec": {
   "display_name": "Python 3",
   "language": "python",
   "name": "python3"
  },
  "language_info": {
   "codemirror_mode": {
    "name": "ipython",
    "version": 3
   },
   "file_extension": ".py",
   "mimetype": "text/x-python",
   "name": "python",
   "nbconvert_exporter": "python",
   "pygments_lexer": "ipython3",
   "version": "3.10.6"
  }
 },
 "nbformat": 4,
 "nbformat_minor": 2
}
